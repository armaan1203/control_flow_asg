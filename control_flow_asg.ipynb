{
 "cells": [
  {
   "cell_type": "code",
   "execution_count": 6,
   "id": "75433423-7256-47c4-a301-b9bc1ea8de06",
   "metadata": {},
   "outputs": [],
   "source": [
    "def check_number():\n",
    "    n=int(input(\"enetr the number:\"))\n",
    "    if n>=0:\n",
    "        print('The entered number is positive')\n",
    "    else:\n",
    "        print('The entered number is negetive')"
   ]
  },
  {
   "cell_type": "code",
   "execution_count": 8,
   "id": "b88558ef-1ec9-4813-8884-4623c4d16fad",
   "metadata": {},
   "outputs": [
    {
     "name": "stdin",
     "output_type": "stream",
     "text": [
      "enetr the number: -11\n"
     ]
    },
    {
     "name": "stdout",
     "output_type": "stream",
     "text": [
      "The entered number is negetive\n"
     ]
    }
   ],
   "source": [
    "check_number()"
   ]
  },
  {
   "cell_type": "code",
   "execution_count": 9,
   "id": "c980844e-7191-4bf5-b9dc-b638b60469cb",
   "metadata": {},
   "outputs": [],
   "source": [
    "def vote_eligibility():\n",
    "    n=int(input(\"enter your age:\"))\n",
    "    if n>=18:\n",
    "        print(\"you are eligible for vote\")\n",
    "    else:\n",
    "        print(\"you are not eligible for vote\")"
   ]
  },
  {
   "cell_type": "code",
   "execution_count": 10,
   "id": "6ebac495-9875-4c6e-966d-3ceedfe81519",
   "metadata": {},
   "outputs": [
    {
     "name": "stdin",
     "output_type": "stream",
     "text": [
      "enter your age: 21\n"
     ]
    },
    {
     "name": "stdout",
     "output_type": "stream",
     "text": [
      "you are eligible for vote\n"
     ]
    }
   ],
   "source": [
    "vote_eligibility()"
   ]
  },
  {
   "cell_type": "code",
   "execution_count": 26,
   "id": "6cfb0531-67dc-49fa-bb84-7605f20e6914",
   "metadata": {},
   "outputs": [],
   "source": [
    "def find_max():\n",
    "    a=int(input(\"enter first numbers:\"))\n",
    "    b=int(input(\"enter second numbers:\"))\n",
    "    if a>b:\n",
    "        print('a is max' )\n",
    "    else:\n",
    "        print('b is max')\n",
    "    "
   ]
  },
  {
   "cell_type": "code",
   "execution_count": 27,
   "id": "50531393-fb5a-405e-b035-e2034c1d66a2",
   "metadata": {},
   "outputs": [
    {
     "name": "stdin",
     "output_type": "stream",
     "text": [
      "enter first numbers: 12\n",
      "enter second numbers: 13\n"
     ]
    },
    {
     "name": "stdout",
     "output_type": "stream",
     "text": [
      "b is max\n"
     ]
    }
   ],
   "source": [
    "find_max()"
   ]
  },
  {
   "cell_type": "code",
   "execution_count": 1,
   "id": "11163291-690d-4952-a6cd-a44bd8ddc182",
   "metadata": {},
   "outputs": [],
   "source": [
    "def is_leap_year():\n",
    "    n=int(input('eneter the year:'))\n",
    "    if n%4==0:\n",
    "         print('it is a leap year')\n",
    "    else:\n",
    "        print('it is not  a leap year')\n",
    "        "
   ]
  },
  {
   "cell_type": "code",
   "execution_count": 4,
   "id": "1c9c3765-a856-4f4c-8fab-20ebf1819805",
   "metadata": {},
   "outputs": [
    {
     "name": "stdin",
     "output_type": "stream",
     "text": [
      "eneter the year: 2016\n"
     ]
    },
    {
     "name": "stdout",
     "output_type": "stream",
     "text": [
      "it is a leap year\n"
     ]
    }
   ],
   "source": [
    "is_leap_year()"
   ]
  },
  {
   "cell_type": "code",
   "execution_count": 31,
   "id": "b80f711e-8a60-4070-91c0-b8731ed80415",
   "metadata": {},
   "outputs": [],
   "source": [
    "def check_char():\n",
    "    a='aeiouAEIOU'\n",
    "    b=str(input('enter your character:'))\n",
    "    if b in a:\n",
    "        print('it is a vowel')\n",
    "    else:\n",
    "        print('it is a consonent')"
   ]
  },
  {
   "cell_type": "code",
   "execution_count": 32,
   "id": "0cdfbd65-ec43-4158-89fc-8d600f7a09a7",
   "metadata": {},
   "outputs": [
    {
     "name": "stdin",
     "output_type": "stream",
     "text": [
      "enter your character: a\n"
     ]
    },
    {
     "name": "stdout",
     "output_type": "stream",
     "text": [
      "it is a vowel\n"
     ]
    }
   ],
   "source": [
    "check_char()"
   ]
  },
  {
   "cell_type": "code",
   "execution_count": 33,
   "id": "9a42a9cc-2fbe-4284-bd6a-e131b003fc5b",
   "metadata": {},
   "outputs": [],
   "source": [
    "def check_num():\n",
    "    a=int(input('enter your number'))\n",
    "    if a%2==0:\n",
    "        print('the number is a even')\n",
    "    else:\n",
    "        print('the number is a odd')"
   ]
  },
  {
   "cell_type": "code",
   "execution_count": 34,
   "id": "b31351dc-a6ae-4dd9-8302-0a5b7acdadde",
   "metadata": {},
   "outputs": [
    {
     "name": "stdin",
     "output_type": "stream",
     "text": [
      "enter your number 20\n"
     ]
    },
    {
     "name": "stdout",
     "output_type": "stream",
     "text": [
      "the number is a even\n"
     ]
    }
   ],
   "source": [
    "check_num()"
   ]
  },
  {
   "cell_type": "code",
   "execution_count": 38,
   "id": "e409dde3-288e-41eb-88ef-2c3eb0911aee",
   "metadata": {},
   "outputs": [],
   "source": [
    "def absolute_num():\n",
    "    n=float(input('enter your number:'))\n",
    "    if n>=0:\n",
    "        return n\n",
    "    else:\n",
    "        return -n"
   ]
  },
  {
   "cell_type": "code",
   "execution_count": 39,
   "id": "f4be0415-e062-4635-9b04-5970e5259dbe",
   "metadata": {},
   "outputs": [
    {
     "name": "stdin",
     "output_type": "stream",
     "text": [
      "enter your number: 220\n"
     ]
    },
    {
     "data": {
      "text/plain": [
       "220.0"
      ]
     },
     "execution_count": 39,
     "metadata": {},
     "output_type": "execute_result"
    }
   ],
   "source": [
    "absolute_num()"
   ]
  },
  {
   "cell_type": "code",
   "execution_count": 42,
   "id": "a04b9a08-a400-45e2-bdf3-8fd20b62798f",
   "metadata": {},
   "outputs": [],
   "source": [
    "def check_greater_number():\n",
    "    a,b,c=10,23,12\n",
    "    if a>b and a>c:\n",
    "        print('a is greater number')\n",
    "    elif b>a and b>c:\n",
    "        print('b is greater number')\n",
    "    else:\n",
    "        print('c is greater number')\n",
    "            "
   ]
  },
  {
   "cell_type": "code",
   "execution_count": 43,
   "id": "127f46a6-5e4c-4e49-8a46-d90dee8e46f5",
   "metadata": {},
   "outputs": [
    {
     "name": "stdout",
     "output_type": "stream",
     "text": [
      "b is greater number\n"
     ]
    }
   ],
   "source": [
    "check_greater_number()"
   ]
  },
  {
   "cell_type": "code",
   "execution_count": 56,
   "id": "506414ff-9575-4204-884a-2abd1602e6d4",
   "metadata": {},
   "outputs": [],
   "source": [
    "def check_palindrome():\n",
    "    n='armra'\n",
    "    if n[0:]==n[::-1]:\n",
    "        print('yes it is palindrome')\n",
    "    else:\n",
    "        print('no it is not a palindrome')"
   ]
  },
  {
   "cell_type": "code",
   "execution_count": 57,
   "id": "573a3138-435f-4c2c-a65f-96dc4e5e47b4",
   "metadata": {},
   "outputs": [
    {
     "name": "stdout",
     "output_type": "stream",
     "text": [
      "yes it is palindrome\n"
     ]
    }
   ],
   "source": [
    "check_palindrome()"
   ]
  },
  {
   "cell_type": "code",
   "execution_count": 42,
   "id": "c7709dc5-0358-49c0-81b8-2b0280c417c2",
   "metadata": {},
   "outputs": [],
   "source": [
    "def check_grade():\n",
    "    marks=int(input('enter the marks:'))\n",
    "    if marks>35:\n",
    "        if marks > 90:\n",
    "            print('your garde is A')\n",
    "        elif marks >75:\n",
    "            print('your grade is B')\n",
    "        elif marks >60:\n",
    "            print('your grade is C')\n",
    "        else:\n",
    "            print('your grade is D')\n",
    "    else:\n",
    "        print('your grade is D')\n",
    "        "
   ]
  },
  {
   "cell_type": "code",
   "execution_count": 44,
   "id": "e4673604-91f1-478c-bd78-0ba5d15ab781",
   "metadata": {},
   "outputs": [
    {
     "name": "stdin",
     "output_type": "stream",
     "text": [
      "enter the marks: 65\n"
     ]
    },
    {
     "name": "stdout",
     "output_type": "stream",
     "text": [
      "your grade is C\n"
     ]
    }
   ],
   "source": [
    "check_grade()"
   ]
  },
  {
   "cell_type": "code",
   "execution_count": 18,
   "id": "49d35816-f947-4c03-8549-d0ea35e981d7",
   "metadata": {},
   "outputs": [],
   "source": [
    "def cehck_largest():\n",
    "    a,b,c=10,19,11\n",
    "    if a>b:\n",
    "        if a>c:\n",
    "            print('a is the largest number')\n",
    "        else:\n",
    "            print('c is the largest number')\n",
    "    else:\n",
    "        if b>a:\n",
    "            if b>c:\n",
    "                print('b is the largest number')\n",
    "            else:\n",
    "                print('c is the largest number')\n",
    "            \n",
    "\n",
    "            "
   ]
  },
  {
   "cell_type": "code",
   "execution_count": 19,
   "id": "32ec3fb1-9276-4d7b-a8fd-283c4d74bcb3",
   "metadata": {},
   "outputs": [
    {
     "name": "stdout",
     "output_type": "stream",
     "text": [
      "b is the largest number\n"
     ]
    }
   ],
   "source": [
    "cehck_largest()"
   ]
  },
  {
   "cell_type": "code",
   "execution_count": 41,
   "id": "ca27fb5d-f581-43bc-b418-0a3666d9371b",
   "metadata": {},
   "outputs": [],
   "source": [
    "def check_triangle():\n",
    "    a,b,c=12,12,13\n",
    "    if a==b:\n",
    "        if a==c:\n",
    "            print('the triangle is equilateral triangle')\n",
    "        else:\n",
    "            print('the triangle is isosceless triangle')\n",
    "    elif a==c or b==c:\n",
    "         print('the triangle is isoceless triangle')\n",
    "    else:\n",
    "        print('the triangle is scalene triangle')\n",
    "            "
   ]
  },
  {
   "cell_type": "code",
   "execution_count": 42,
   "id": "658ff724-e1aa-4570-ae2d-6cabaa1cad06",
   "metadata": {},
   "outputs": [
    {
     "name": "stdout",
     "output_type": "stream",
     "text": [
      "the triangle is isosceless triangle\n"
     ]
    }
   ],
   "source": [
    "check_triangle()"
   ]
  },
  {
   "cell_type": "code",
   "execution_count": 16,
   "id": "b1f2f26c-a440-43c2-b8ae-697f638c6d05",
   "metadata": {},
   "outputs": [],
   "source": [
    "def is_leap_century_year():\n",
    "    n=int(input('eneter the year:'))\n",
    "    if n%4==0:\n",
    "        if n%100==0:\n",
    "            print('the year is a leap year and century year')\n",
    "        else:\n",
    "            print('the year is not a leap year and century year')\n",
    "    else:\n",
    "        print('it is not  a leap year')"
   ]
  },
  {
   "cell_type": "code",
   "execution_count": 18,
   "id": "8e8a66c1-2474-4550-b630-caa29abefc47",
   "metadata": {},
   "outputs": [
    {
     "name": "stdin",
     "output_type": "stream",
     "text": [
      "eneter the year: 2000\n"
     ]
    },
    {
     "name": "stdout",
     "output_type": "stream",
     "text": [
      "the year is a leap year and century year\n"
     ]
    }
   ],
   "source": [
    "is_leap_century_year()"
   ]
  },
  {
   "cell_type": "code",
   "execution_count": 19,
   "id": "4f665e21-8e68-4b0c-a635-a8dc1bdc644b",
   "metadata": {},
   "outputs": [],
   "source": [
    "def check_teenager():\n",
    "    age=int(input('enter your age:'))\n",
    "    if age>=13:\n",
    "        if age <=19:\n",
    "            print('you are a teenager')\n",
    "        else:\n",
    "            print('you are not a teenager')"
   ]
  },
  {
   "cell_type": "code",
   "execution_count": 20,
   "id": "2f7b4149-97c9-43f6-9ab8-cc50103a117d",
   "metadata": {},
   "outputs": [
    {
     "name": "stdin",
     "output_type": "stream",
     "text": [
      "enter your age: 14\n"
     ]
    },
    {
     "name": "stdout",
     "output_type": "stream",
     "text": [
      "you are a teenager\n"
     ]
    }
   ],
   "source": [
    "check_teenager()"
   ]
  },
  {
   "cell_type": "code",
   "execution_count": 34,
   "id": "c70db276-8d2b-49f2-be5d-4ceefeac24ab",
   "metadata": {},
   "outputs": [],
   "source": [
    "def check_angle():\n",
    "    measure=int(input('enetr the measure of angle:'))\n",
    "    if 0<=measure:\n",
    "        if measure < 90:\n",
    "            print('these is acute angle')\n",
    "        elif measure ==90:\n",
    "            print('these is a right angle')\n",
    "        else:\n",
    "            print('these is a obtuse angle')\n",
    "    else:\n",
    "        print('these is a obtuse angle')"
   ]
  },
  {
   "cell_type": "code",
   "execution_count": 35,
   "id": "f7643050-4667-4f34-8144-46feb2ea615c",
   "metadata": {},
   "outputs": [
    {
     "name": "stdin",
     "output_type": "stream",
     "text": [
      "enetr the measure of angle: 99\n"
     ]
    },
    {
     "name": "stdout",
     "output_type": "stream",
     "text": [
      "these is a obtuse angle\n"
     ]
    }
   ],
   "source": [
    "check_angle()"
   ]
  },
  {
   "cell_type": "code",
   "execution_count": 5,
   "id": "54dc0034-a3b6-4ff5-b107-6d813baf1e6f",
   "metadata": {},
   "outputs": [
    {
     "name": "stdin",
     "output_type": "stream",
     "text": [
      "Enter the coefficient a: 12\n",
      "Enter the coefficient b: 23\n",
      "Enter the coefficient c: 31\n"
     ]
    },
    {
     "name": "stdout",
     "output_type": "stream",
     "text": [
      "Root 1: (-0.9583333333333334+1.2903218806001686j)\n",
      "Root 2: (-0.9583333333333334-1.2903218806001686j)\n"
     ]
    }
   ],
   "source": [
    "def get_quaadratic_roots(a,b,c):\n",
    "    x=b**2-4*a*c\n",
    "    if x>0:\n",
    "        r1=(-b+(x**0.5))/(2*a)\n",
    "        r2=(-b-(x**0.5))/(2*a)\n",
    "        return r1,r2\n",
    "    else:\n",
    "        if x==0:\n",
    "            root=-b/(2*a)\n",
    "            return root,root\n",
    "        else:\n",
    "            real_part=-b/(2*a)\n",
    "            imaginary_part=(-x)**0.5/(2*a)\n",
    "            r1=complex(real_part,imaginary_part)\n",
    "            r2=complex(real_part,-imaginary_part)\n",
    "            return r1,r2\n",
    "        \n",
    "a=float(input('Enter the coefficient a:'))\n",
    "b=float(input('Enter the coefficient b:'))\n",
    "c=float(input('Enter the coefficient c:'))\n",
    "\n",
    "r1, r2 = get_quaadratic_roots(a, b, c)\n",
    "\n",
    "print(\"Root 1:\", r1)\n",
    "print(\"Root 2:\", r2)\n",
    "\n",
    "    "
   ]
  },
  {
   "cell_type": "code",
   "execution_count": 8,
   "id": "370dce96-d945-4ed8-866b-c00835b2ce20",
   "metadata": {},
   "outputs": [],
   "source": [
    "def weekdays_on_number():\n",
    "    n=int(input('enter your number:'))\n",
    "    if n>=1:\n",
    "        if n==1:\n",
    "            print('monday')\n",
    "        elif n==2:\n",
    "            print('tuesday')\n",
    "        elif n==3:\n",
    "            print('wednesday')\n",
    "        elif n==4:\n",
    "            print('thursday')\n",
    "        elif n==5:\n",
    "             print('friday')\n",
    "        elif n==6:\n",
    "            print('saturdy')\n",
    "        elif n==7:\n",
    "            print('sunday')\n",
    "    else:\n",
    "        print('please enter a valid number')"
   ]
  },
  {
   "cell_type": "code",
   "execution_count": 10,
   "id": "3f2f9839-b0c0-463a-8521-75740c77bd09",
   "metadata": {},
   "outputs": [
    {
     "name": "stdin",
     "output_type": "stream",
     "text": [
      "enter your number: 2\n"
     ]
    },
    {
     "name": "stdout",
     "output_type": "stream",
     "text": [
      "tuesday\n"
     ]
    }
   ],
   "source": [
    "weekdays_on_number()"
   ]
  },
  {
   "cell_type": "code",
   "execution_count": 14,
   "id": "95eb65fe-0456-4f04-913e-e1a1e39c4564",
   "metadata": {},
   "outputs": [],
   "source": [
    "def iis_leap_century_year():\n",
    "    n=int(input('eneter the year:'))\n",
    "    if n%4==0:\n",
    "        if n%400==0:\n",
    "            print('the year is a leap year and divisible by 400')\n",
    "        else:\n",
    "            print('the year is not a leap year and not divisible by 400')\n",
    "    else:\n",
    "        print('it is not  a leap year')"
   ]
  },
  {
   "cell_type": "code",
   "execution_count": 17,
   "id": "849193a0-47fe-4db3-ae94-0d52315e0b68",
   "metadata": {},
   "outputs": [
    {
     "name": "stdin",
     "output_type": "stream",
     "text": [
      "eneter the year: 1600\n"
     ]
    },
    {
     "name": "stdout",
     "output_type": "stream",
     "text": [
      "the year is a leap year and divisible by 400\n"
     ]
    }
   ],
   "source": [
    "iis_leap_century_year()"
   ]
  },
  {
   "cell_type": "code",
   "execution_count": 38,
   "id": "6a43b03f-7543-4858-9e3d-575896ceae39",
   "metadata": {},
   "outputs": [],
   "source": [
    "def check_prime_number():\n",
    "    n=int(input('enter the number:'))\n",
    "    if n%2!=0:\n",
    "        if n%n==0:\n",
    "            if n%1==0:\n",
    "                print('the number is a prime number')\n",
    "        else:\n",
    "            print('the number is not a prime number')\n",
    "    else:\n",
    "        print('the entered number is not a prime numbe')"
   ]
  },
  {
   "cell_type": "code",
   "execution_count": 39,
   "id": "64a1633e-7ab9-4ff4-8d04-70cfa8a71037",
   "metadata": {},
   "outputs": [
    {
     "name": "stdin",
     "output_type": "stream",
     "text": [
      "enter the number: 13\n"
     ]
    },
    {
     "name": "stdout",
     "output_type": "stream",
     "text": [
      "the number is a prime number\n"
     ]
    }
   ],
   "source": [
    "check_prime_number()"
   ]
  },
  {
   "cell_type": "code",
   "execution_count": 40,
   "id": "a7b965b7-96bd-4a0d-8b34-a2b23747d22d",
   "metadata": {},
   "outputs": [],
   "source": [
    "def check_grade_with_marks():\n",
    "    marks=int(input('enter the marks:'))\n",
    "    if marks>90:\n",
    "        print('you got A+ grade')\n",
    "    elif marks>80:\n",
    "        print('you got A grade')\n",
    "    elif marks>70:\n",
    "        print('you got B grade')\n",
    "    elif marks>60:\n",
    "        print('you got C grade')\n",
    "    else:\n",
    "        print('you got D grade')"
   ]
  },
  {
   "cell_type": "code",
   "execution_count": 41,
   "id": "be33e651-6e97-45e6-b237-6853755f2a78",
   "metadata": {},
   "outputs": [
    {
     "name": "stdin",
     "output_type": "stream",
     "text": [
      "enter the marks: 78\n"
     ]
    },
    {
     "name": "stdout",
     "output_type": "stream",
     "text": [
      "you got B grade\n"
     ]
    }
   ],
   "source": [
    "check_grade_with_marks()"
   ]
  },
  {
   "cell_type": "code",
   "execution_count": 1,
   "id": "0e4179a6-ab1d-4806-b1cf-9f18f05f4580",
   "metadata": {},
   "outputs": [],
   "source": [
    "def check_traingle_angle():\n",
    "    a=int(input('enetr the 1st angle:'))\n",
    "    b=int(input('enetr the 2nd angle:'))\n",
    "    c=int(input('enetr the 3rd angle:'))\n",
    "    if a==b and a==c:\n",
    "            print('the triangle is equilateral triangle')\n",
    "    elif a==b or b==c:\n",
    "         print('the triangle is right angled triangle')\n",
    "    else:\n",
    "        print('the triangle is scalene triangle')"
   ]
  },
  {
   "cell_type": "code",
   "execution_count": 2,
   "id": "22250d06-cec3-46f9-8639-b9ac3327cadf",
   "metadata": {},
   "outputs": [
    {
     "name": "stdin",
     "output_type": "stream",
     "text": [
      "enetr the 1st angle: 60\n",
      "enetr the 2nd angle: 60\n",
      "enetr the 3rd angle: 60\n"
     ]
    },
    {
     "name": "stdout",
     "output_type": "stream",
     "text": [
      "the triangle is equilateral triangle\n"
     ]
    }
   ],
   "source": [
    "check_traingle_angle()"
   ]
  },
  {
   "cell_type": "code",
   "execution_count": 3,
   "id": "985fc8e7-ed5d-40a8-98bc-57f2ff68b12f",
   "metadata": {},
   "outputs": [],
   "source": [
    "def check_categorie():\n",
    "    w=int(input('enter your weight:'))\n",
    "    if w>=100:\n",
    "        print('your are obese')\n",
    "    elif w>=80:\n",
    "        print('you are over weight')\n",
    "    elif w>=60:\n",
    "        print('you are normal')\n",
    "    else:\n",
    "        print('you are under weight ')"
   ]
  },
  {
   "cell_type": "code",
   "execution_count": 4,
   "id": "e96c600b-8f81-4adb-8000-51afcf7068f3",
   "metadata": {},
   "outputs": [
    {
     "name": "stdin",
     "output_type": "stream",
     "text": [
      "enter your weight: 75\n"
     ]
    },
    {
     "name": "stdout",
     "output_type": "stream",
     "text": [
      "you are normal\n"
     ]
    }
   ],
   "source": [
    "check_categorie()"
   ]
  },
  {
   "cell_type": "code",
   "execution_count": 6,
   "id": "89fbf2f8-4026-4a9d-91e3-e7355b009a38",
   "metadata": {},
   "outputs": [],
   "source": [
    "def check_intiger():\n",
    "    n=int(input('enter the number:'))\n",
    "    if n>0:\n",
    "        print('The entered number is positive')\n",
    "    elif n==0:\n",
    "        print('The entered number is zero')\n",
    "    else:\n",
    "        print('The entered number is negative')"
   ]
  },
  {
   "cell_type": "code",
   "execution_count": 9,
   "id": "4df746b9-ea98-48f5-9952-2e838e0d7869",
   "metadata": {},
   "outputs": [
    {
     "name": "stdin",
     "output_type": "stream",
     "text": [
      "enter the number: -12\n"
     ]
    },
    {
     "name": "stdout",
     "output_type": "stream",
     "text": [
      "The entered number is negative\n"
     ]
    }
   ],
   "source": [
    "check_intiger()"
   ]
  },
  {
   "cell_type": "code",
   "execution_count": 2,
   "id": "ee64558f-e8f3-403c-b495-0927bab92db2",
   "metadata": {},
   "outputs": [],
   "source": [
    "def check_character():\n",
    "    a='ABCDEFGHIJKLMNOPQRSTUVWXYZ'\n",
    "    B='abcdefghijklmnopqrstuvwxyz'\n",
    "    c='!@#$%^&*<>?*.`~'\n",
    "    d=input('enter your character:')\n",
    "    if d in a:\n",
    "        print('your chacater is of upper case')\n",
    "    elif d in b:\n",
    "        print('your character is of lower case')\n",
    "    elif d in c:\n",
    "        print('your character is special')\n",
    "    else:\n",
    "        print('your characyer is invalid')"
   ]
  },
  {
   "cell_type": "code",
   "execution_count": 3,
   "id": "379eb15a-0676-4f14-8689-1eccbe0e7f66",
   "metadata": {},
   "outputs": [
    {
     "name": "stdin",
     "output_type": "stream",
     "text": [
      "enter your character: A\n"
     ]
    },
    {
     "name": "stdout",
     "output_type": "stream",
     "text": [
      "your chacater is of upper case\n"
     ]
    }
   ],
   "source": [
    "check_character()"
   ]
  },
  {
   "cell_type": "code",
   "execution_count": 14,
   "id": "4a779615-ee24-486a-b12a-ad6ecbe1cea1",
   "metadata": {},
   "outputs": [],
   "source": [
    "def check_discounted_price():\n",
    "    price=int(input('enter the price:'))\n",
    "    if price<100:\n",
    "        print('The discounted price for under 100rs is:Rs.',price-price*0.10)\n",
    "    elif price <150:\n",
    "        print('The discounted price for under 150rs is:Rs.',price-price*0.15)\n",
    "    elif price <200:\n",
    "        print('The discounted price for under 200rs is:Rs.',price-price*0.20)\n",
    "    elif price>=300:\n",
    "        print('The discounted price for more than 300rs is:Rs.',price -price*0.30)\n",
    "    else:\n",
    "        print('please enter the valid amount')"
   ]
  },
  {
   "cell_type": "code",
   "execution_count": 15,
   "id": "f3bc507b-2f03-44e8-82c9-e34b102f0a23",
   "metadata": {},
   "outputs": [
    {
     "name": "stdin",
     "output_type": "stream",
     "text": [
      "enter the price: 300\n"
     ]
    },
    {
     "name": "stdout",
     "output_type": "stream",
     "text": [
      "The discounted price for more than 300rs is:Rs. 210.0\n"
     ]
    }
   ],
   "source": [
    "check_discounted_price()"
   ]
  },
  {
   "cell_type": "code",
   "execution_count": 24,
   "id": "16040fad-bd39-41d6-8ff3-ae299ed26b55",
   "metadata": {},
   "outputs": [],
   "source": [
    "def create_electricity_bill():\n",
    "    consumption=int(input('enter your consumption:'))\n",
    "    if consumption<100:\n",
    "        print('your these month bill is:',consumption*0.5)\n",
    "    elif consumption < 200:\n",
    "        print('your these month bill is:',consumption*0.5)\n",
    "    elif consumption < 300:\n",
    "        print('your these month bill is:',consumption*0.5)\n",
    "    else:\n",
    "        print('your bill will be generated later')"
   ]
  },
  {
   "cell_type": "code",
   "execution_count": 25,
   "id": "6309c7ef-2ce0-4654-beae-6d393433f7ba",
   "metadata": {},
   "outputs": [
    {
     "name": "stdin",
     "output_type": "stream",
     "text": [
      "enter your consumption: 200\n"
     ]
    },
    {
     "name": "stdout",
     "output_type": "stream",
     "text": [
      "your these month bill is: 100.0\n"
     ]
    }
   ],
   "source": [
    "create_electricity_bill()"
   ]
  },
  {
   "cell_type": "code",
   "execution_count": 27,
   "id": "39da2370-b6d8-4c0b-9257-3f8798dcbe5a",
   "metadata": {},
   "outputs": [],
   "source": [
    "def determine_quadrilateral():\n",
    "    a=int(input('enter the first side:'))\n",
    "    b=int(input('enter the second side:'))\n",
    "    c=int(input('enter the third side:'))\n",
    "    d=int(input('enter the fourth side:'))\n",
    "    A=int(input('enter the first angle:'))\n",
    "    B=int(input('enter the second angle:'))\n",
    "    C=int(input('enter the third angle:'))\n",
    "    D=int(input('enter the fourth angle:'))\n",
    "    if a==b==c==d:\n",
    "        if A==B==C==D:\n",
    "            print('square')\n",
    "        else:\n",
    "            print('rhombus')\n",
    "    elif a == c and b == d:\n",
    "        if A == B == C == D == 90:\n",
    "            return \"Rectangle\"\n",
    "        else:\n",
    "            return \"Parallelogram\"\n",
    "    elif (a == c and b != d) or (a != c and b == d):\n",
    "        return \"Trapezoid\"\n",
    "    else:\n",
    "        return \"Other quadrilateral\""
   ]
  },
  {
   "cell_type": "code",
   "execution_count": 28,
   "id": "a3720618-9487-49c1-8750-0b870eddd919",
   "metadata": {},
   "outputs": [
    {
     "name": "stdin",
     "output_type": "stream",
     "text": [
      "enter the first side: 10\n",
      "enter the second side: 12\n",
      "enter the third side: 10\n",
      "enter the fourth side: 12\n",
      "enter the first angle: 90\n",
      "enter the second angle: 90\n",
      "enter the third angle: 90\n",
      "enter the fourth angle: 90\n"
     ]
    },
    {
     "data": {
      "text/plain": [
       "'Rectangle'"
      ]
     },
     "execution_count": 28,
     "metadata": {},
     "output_type": "execute_result"
    }
   ],
   "source": [
    "determine_quadrilateral()"
   ]
  },
  {
   "cell_type": "code",
   "execution_count": 29,
   "id": "22894cf0-1e64-42c9-8982-00b10f9d5d96",
   "metadata": {},
   "outputs": [],
   "source": [
    "def check_season():\n",
    "    rainy=['june','july','august','september']\n",
    "    winter=['october','november','december','january']\n",
    "    summer=['february','march','april','may']\n",
    "    month=str(input('enter the month:'))\n",
    "    if month in rainy:\n",
    "        print('rainy')\n",
    "    elif month in winter:\n",
    "        print('winter')\n",
    "    elif month in summer:\n",
    "        print('summer')\n",
    "    else:\n",
    "        print('invalid month')\n",
    "        "
   ]
  },
  {
   "cell_type": "code",
   "execution_count": 34,
   "id": "277f99e4-2b38-49a9-b691-0dae937a32f2",
   "metadata": {},
   "outputs": [
    {
     "name": "stdin",
     "output_type": "stream",
     "text": [
      "enter the month: december\n"
     ]
    },
    {
     "name": "stdout",
     "output_type": "stream",
     "text": [
      "winter\n"
     ]
    }
   ],
   "source": [
    "check_season()"
   ]
  },
  {
   "cell_type": "code",
   "execution_count": 46,
   "id": "eb1ecf38-c2f6-4521-83df-f0ccddc204c8",
   "metadata": {},
   "outputs": [],
   "source": [
    "def check_leap_and_month():\n",
    "    n=int(input('eneter the year:'))\n",
    "    if n%4==0:\n",
    "         print('it is a leap year')\n",
    "    else:\n",
    "        print('not a leap year')\n",
    "    day=['january','march','may','july','august','october','december']\n",
    "    days=['february','april','june','september','november']\n",
    "    month=input('enter the yaer::')\n",
    "    if month in day:\n",
    "        print('the month has 31 days')\n",
    "    elif month in days:\n",
    "        print('the month has 30 days ')\n",
    "    else:\n",
    "        print('inalid month')\n"
   ]
  },
  {
   "cell_type": "code",
   "execution_count": 47,
   "id": "cac8b236-cf07-469a-bc7d-a50920f539bb",
   "metadata": {},
   "outputs": [
    {
     "name": "stdin",
     "output_type": "stream",
     "text": [
      "eneter the year: 2000\n"
     ]
    },
    {
     "name": "stdout",
     "output_type": "stream",
     "text": [
      "it is a leap year\n"
     ]
    },
    {
     "name": "stdin",
     "output_type": "stream",
     "text": [
      "enter the yaer:: january\n"
     ]
    },
    {
     "name": "stdout",
     "output_type": "stream",
     "text": [
      "the month has 31 days\n"
     ]
    }
   ],
   "source": [
    "check_leap_and_month()"
   ]
  },
  {
   "cell_type": "code",
   "execution_count": 1,
   "id": "b4171f19-7e66-41af-8739-c1179fa1957b",
   "metadata": {},
   "outputs": [],
   "source": [
    "#basic level"
   ]
  },
  {
   "cell_type": "code",
   "execution_count": 2,
   "id": "7fb0389c-3c01-446f-ba85-8c4d3a3bd06d",
   "metadata": {},
   "outputs": [],
   "source": [
    "def check_intiger_ps_ng_zo():\n",
    "    n=int(input('enter the number:'))\n",
    "    if n>0:\n",
    "        print('The entered number is positive')\n",
    "    elif n==0:\n",
    "        print('The entered number is zero')\n",
    "    else:\n",
    "        print('The entered number is negative')"
   ]
  },
  {
   "cell_type": "code",
   "execution_count": 3,
   "id": "cc09a655-e757-412a-8522-ff96135a5c82",
   "metadata": {},
   "outputs": [
    {
     "name": "stdin",
     "output_type": "stream",
     "text": [
      "enter the number: 2\n"
     ]
    },
    {
     "name": "stdout",
     "output_type": "stream",
     "text": [
      "The entered number is positive\n"
     ]
    }
   ],
   "source": [
    "check_intiger_ps_ng_zo()"
   ]
  },
  {
   "cell_type": "code",
   "execution_count": 4,
   "id": "ceb07b63-e209-4a4d-b1f6-1ff11ec04663",
   "metadata": {},
   "outputs": [],
   "source": [
    "def voter_eligibility():\n",
    "    n=int(input(\"enter your age:\"))\n",
    "    if n>=18:\n",
    "        print(\"you are eligible for vote\")\n",
    "    else:\n",
    "        print(\"you are not eligible for vote\")"
   ]
  },
  {
   "cell_type": "code",
   "execution_count": 5,
   "id": "4a589502-cbe1-4f64-93c5-6973b341aad3",
   "metadata": {},
   "outputs": [
    {
     "name": "stdin",
     "output_type": "stream",
     "text": [
      "enter your age: 21\n"
     ]
    },
    {
     "name": "stdout",
     "output_type": "stream",
     "text": [
      "you are eligible for vote\n"
     ]
    }
   ],
   "source": [
    "voter_eligibility()"
   ]
  },
  {
   "cell_type": "code",
   "execution_count": 26,
   "id": "bc5c3e0d-7420-449a-8580-872f3f2b11a6",
   "metadata": {},
   "outputs": [],
   "source": [
    "def check_maximum():\n",
    "    a=int(input(\"enter first numbers:\"))\n",
    "    b=int(input(\"enter second numbers:\"))\n",
    "    if a>b:\n",
    "        print('a is max' )\n",
    "    else:\n",
    "        print('b is max')\n",
    "    "
   ]
  },
  {
   "cell_type": "code",
   "execution_count": 27,
   "id": "88109c07-e09e-4ab4-987e-9a7312dabf77",
   "metadata": {},
   "outputs": [
    {
     "name": "stdin",
     "output_type": "stream",
     "text": [
      "enter first numbers: 12\n",
      "enter second numbers: 21\n"
     ]
    },
    {
     "name": "stdout",
     "output_type": "stream",
     "text": [
      "b is max\n"
     ]
    }
   ],
   "source": [
    "check_maximum()"
   ]
  },
  {
   "cell_type": "code",
   "execution_count": 8,
   "id": "8882f9d9-9505-418d-bb67-51dec7c173a7",
   "metadata": {},
   "outputs": [],
   "source": [
    "def check_grade_and_marks():\n",
    "    marks=int(input('enter the marks:'))\n",
    "    if marks>90:\n",
    "        print('you got A+ grade')\n",
    "    elif marks>80:\n",
    "        print('you got A grade')\n",
    "    elif marks>70:\n",
    "        print('you got B grade')\n",
    "    elif marks>60:\n",
    "        print('you got C grade')\n",
    "    else:\n",
    "        print('you got D grade')"
   ]
  },
  {
   "cell_type": "code",
   "execution_count": 9,
   "id": "882c07bc-895c-4923-8c3d-8e847e9cf3b9",
   "metadata": {},
   "outputs": [
    {
     "name": "stdin",
     "output_type": "stream",
     "text": [
      "enter the marks: 67\n"
     ]
    },
    {
     "name": "stdout",
     "output_type": "stream",
     "text": [
      "you got C grade\n"
     ]
    }
   ],
   "source": [
    "check_grade_and_marks()"
   ]
  },
  {
   "cell_type": "code",
   "execution_count": 14,
   "id": "bda0050a-b658-42b2-b6dd-ed6c635cfb79",
   "metadata": {},
   "outputs": [],
   "source": [
    "def check_leapp_year():\n",
    "    n=int(input('enter the year to check:'))\n",
    "    if n%4==0:\n",
    "        print('it is a leap year')\n",
    "    else:\n",
    "        print('not a leap year')"
   ]
  },
  {
   "cell_type": "code",
   "execution_count": 15,
   "id": "7317312e-7b02-4772-8c99-059744b20725",
   "metadata": {},
   "outputs": [
    {
     "name": "stdin",
     "output_type": "stream",
     "text": [
      "enter the year to check: 2000\n"
     ]
    },
    {
     "name": "stdout",
     "output_type": "stream",
     "text": [
      "it is a leap year\n"
     ]
    }
   ],
   "source": [
    "check_leapp_year()"
   ]
  },
  {
   "cell_type": "code",
   "execution_count": 16,
   "id": "55519563-1470-4cf6-a558-1f2302af8c72",
   "metadata": {},
   "outputs": [],
   "source": [
    "def check_length_and_triangle():\n",
    "    a=int(input('please enter the first side:'))\n",
    "    b=int(input('please enter the second side:'))\n",
    "    c=int(input('please enter the second side:'))\n",
    "    if a==b:\n",
    "        if a==c:\n",
    "            print('the triangle is equilateral triangle')\n",
    "        else:\n",
    "            print('the triangle is isosceless triangle')\n",
    "    elif a==c or b==c:\n",
    "         print('the triangle is isoceless triangle')\n",
    "    else:\n",
    "        print('the triangle is scalene triangle')\n",
    "            "
   ]
  },
  {
   "cell_type": "code",
   "execution_count": 17,
   "id": "a509797e-234e-4dd1-9495-d0a55eb82c3c",
   "metadata": {},
   "outputs": [
    {
     "name": "stdin",
     "output_type": "stream",
     "text": [
      "please enter the first side: 12\n",
      "please enter the second side: 12\n",
      "please enter the second side: 12\n"
     ]
    },
    {
     "name": "stdout",
     "output_type": "stream",
     "text": [
      "the triangle is equilateral triangle\n"
     ]
    }
   ],
   "source": [
    "check_length_and_triangle()"
   ]
  },
  {
   "cell_type": "code",
   "execution_count": 55,
   "id": "caa79ad8-0d40-4d34-b197-68df3727a30f",
   "metadata": {},
   "outputs": [],
   "source": [
    "def find_largest_of_given():\n",
    "    l1=[12,23,45]\n",
    "    for i in l1:\n",
    "        return max(l1)"
   ]
  },
  {
   "cell_type": "code",
   "execution_count": 56,
   "id": "2a8b901b-2556-47a1-930f-9c7220bb436b",
   "metadata": {},
   "outputs": [
    {
     "data": {
      "text/plain": [
       "45"
      ]
     },
     "execution_count": 56,
     "metadata": {},
     "output_type": "execute_result"
    }
   ],
   "source": [
    "find_largest_of_given()"
   ]
  },
  {
   "cell_type": "code",
   "execution_count": 57,
   "id": "3cabdcf0-b270-43aa-91fa-79ff4380daf3",
   "metadata": {},
   "outputs": [],
   "source": [
    "def check_vowel_or_conconent():\n",
    "    a='aeiouAEIOU'\n",
    "    b=str(input('enter your character:'))\n",
    "    if b in a:\n",
    "        print('it is a vowel')\n",
    "    else:\n",
    "        print('it is a consonent')"
   ]
  },
  {
   "cell_type": "code",
   "execution_count": 32,
   "id": "2d5e7032-1081-4ad6-8ebe-d47703c83664",
   "metadata": {},
   "outputs": [
    {
     "name": "stdin",
     "output_type": "stream",
     "text": [
      "enter your character: B\n"
     ]
    },
    {
     "name": "stdout",
     "output_type": "stream",
     "text": [
      "it is a consonent\n"
     ]
    }
   ],
   "source": [
    "check_vowel_or_conconent()"
   ]
  },
  {
   "cell_type": "code",
   "execution_count": 33,
   "id": "cbb5e9b6-a0d9-4b30-ad31-5a938d1b7b92",
   "metadata": {},
   "outputs": [],
   "source": [
    "def tottal_shopping_cost():\n",
    "    l1=[100,200,400,500,350]\n",
    "    l2=[]\n",
    "    for i in l1:\n",
    "        if i<100:\n",
    "            price=i-i*0.10\n",
    "            l2.append(price)\n",
    "        elif i<200:\n",
    "            price=i-i*0.15\n",
    "            l2.append(price)\n",
    "        elif i<300:\n",
    "            price=i-i*0.20\n",
    "            l2.append(price)\n",
    "        elif i<400:\n",
    "            price=i-i*0.22\n",
    "            l2.append(price)\n",
    "        else:\n",
    "            price=i-i*0.25\n",
    "            l2.append(price)\n",
    "    return sum(l2)"
   ]
  },
  {
   "cell_type": "code",
   "execution_count": 34,
   "id": "e0de4757-2a31-4c5d-ae95-a3e583bb79a8",
   "metadata": {},
   "outputs": [
    {
     "data": {
      "text/plain": [
       "1193.0"
      ]
     },
     "execution_count": 34,
     "metadata": {},
     "output_type": "execute_result"
    }
   ],
   "source": [
    "tottal_shopping_cost()"
   ]
  },
  {
   "cell_type": "code",
   "execution_count": 35,
   "id": "51d079d2-ae6c-4faf-b38c-9310778b9e2c",
   "metadata": {},
   "outputs": [],
   "source": [
    "def check_gien_is_even_odd():\n",
    "    n=int(input('enter the number:'))\n",
    "    if n%2==0:\n",
    "        print('the number is even')\n",
    "    else:\n",
    "        print('the number is odd')"
   ]
  },
  {
   "cell_type": "code",
   "execution_count": 36,
   "id": "acae84a9-4708-4b03-bb26-325f6197e4e0",
   "metadata": {},
   "outputs": [
    {
     "name": "stdin",
     "output_type": "stream",
     "text": [
      "enter the number: 57\n"
     ]
    },
    {
     "name": "stdout",
     "output_type": "stream",
     "text": [
      "the number is odd\n"
     ]
    }
   ],
   "source": [
    "check_gien_is_even_odd()"
   ]
  },
  {
   "cell_type": "code",
   "execution_count": 38,
   "id": "dcc3b1ea-9e42-496b-93b4-7b28bc527e0b",
   "metadata": {},
   "outputs": [
    {
     "name": "stdin",
     "output_type": "stream",
     "text": [
      "Enter the coefficient a: 23\n",
      "Enter the coefficient b: 34\n",
      "Enter the coefficient c: 45\n"
     ]
    },
    {
     "name": "stdout",
     "output_type": "stream",
     "text": [
      "Root 1: (-0.7391304347826086+1.1875217638041446j)\n",
      "Root 2: (-0.7391304347826086-1.1875217638041446j)\n"
     ]
    }
   ],
   "source": [
    "def check_quaadratic_roots(a,b,c):\n",
    "    x=b**2-4*a*c\n",
    "    if x>0:\n",
    "        r1=(-b+(x**0.5))/(2*a)\n",
    "        r2=(-b-(x**0.5))/(2*a)\n",
    "        return r1,r2\n",
    "    else:\n",
    "        if x==0:\n",
    "            root=-b/(2*a)\n",
    "            return root,root\n",
    "        else:\n",
    "            real_part=-b/(2*a)\n",
    "            imaginary_part=(-x)**0.5/(2*a)\n",
    "            r1=complex(real_part,imaginary_part)\n",
    "            r2=complex(real_part,-imaginary_part)\n",
    "            return r1,r2\n",
    "        \n",
    "a=float(input('Enter the coefficient a:'))\n",
    "b=float(input('Enter the coefficient b:'))\n",
    "c=float(input('Enter the coefficient c:'))\n",
    "\n",
    "r1, r2 = check_quaadratic_roots(a, b, c)\n",
    "\n",
    "print(\"Root 1:\", r1)\n",
    "print(\"Root 2:\", r2)\n"
   ]
  },
  {
   "cell_type": "code",
   "execution_count": 41,
   "id": "8aa81b69-a1ae-418c-bbf0-eb7d912b7e8a",
   "metadata": {},
   "outputs": [],
   "source": [
    "def get_weekdays_on_number():\n",
    "    n=int(input('enter your number:'))\n",
    "    if n>=1:\n",
    "        if n==1:\n",
    "            print('monday')\n",
    "        elif n==2:\n",
    "            print('tuesday')\n",
    "        elif n==3:\n",
    "            print('wednesday')\n",
    "        elif n==4:\n",
    "            print('thursday')\n",
    "        elif n==5:\n",
    "             print('friday')\n",
    "        elif n==6:\n",
    "            print('saturdy')\n",
    "        elif n==7:\n",
    "            print('sunday')\n",
    "    else:\n",
    "        print('please enter a valid number')"
   ]
  },
  {
   "cell_type": "code",
   "execution_count": 42,
   "id": "5827e8e3-be31-4ede-b399-2b8e3a86af06",
   "metadata": {},
   "outputs": [
    {
     "name": "stdin",
     "output_type": "stream",
     "text": [
      "enter your number: 4\n"
     ]
    },
    {
     "name": "stdout",
     "output_type": "stream",
     "text": [
      "thursday\n"
     ]
    }
   ],
   "source": [
    "get_weekdays_on_number()"
   ]
  },
  {
   "cell_type": "code",
   "execution_count": 46,
   "id": "aa18e5ad-73cc-4aaa-94d8-524be8d48883",
   "metadata": {},
   "outputs": [],
   "source": [
    "def calculate_factorial(n):\n",
    "    if n==0:\n",
    "        return 1\n",
    "    else:\n",
    "        return n*calculate_factorial(n-1)"
   ]
  },
  {
   "cell_type": "code",
   "execution_count": 52,
   "id": "e1282ed2-3d6b-435c-9218-802f5bd77e36",
   "metadata": {},
   "outputs": [
    {
     "data": {
      "text/plain": [
       "120"
      ]
     },
     "execution_count": 52,
     "metadata": {},
     "output_type": "execute_result"
    }
   ],
   "source": [
    "calculate_factorial(5)"
   ]
  },
  {
   "cell_type": "code",
   "execution_count": 53,
   "id": "0db77e1a-c921-4521-aec4-69f2b6856403",
   "metadata": {},
   "outputs": [],
   "source": [
    "def find_largest_without_max():\n",
    "    a,b,c=10,19,11\n",
    "    if a>b:\n",
    "        if a>c:\n",
    "            print('a is the largest number')\n",
    "        else:\n",
    "            print('c is the largest number')\n",
    "    else:\n",
    "        if b>a:\n",
    "            if b>c:\n",
    "                print('b is the largest number')\n",
    "            else:\n",
    "                print('c is the largest number')"
   ]
  },
  {
   "cell_type": "code",
   "execution_count": 54,
   "id": "d30daf53-ee24-4e26-8e1b-ec8604f579b7",
   "metadata": {},
   "outputs": [
    {
     "name": "stdout",
     "output_type": "stream",
     "text": [
      "b is the largest number\n"
     ]
    }
   ],
   "source": [
    "find_largest_without_max()\n"
   ]
  },
  {
   "cell_type": "code",
   "execution_count": 3,
   "id": "54524473-b95f-4328-9527-7c21f22892f2",
   "metadata": {},
   "outputs": [],
   "source": [
    "def ATM_menu():\n",
    "    balance=1000000\n",
    "    pin=1234\n",
    "    PIN=int(input('please enetr your pin:'))\n",
    "    if PIN==pin:\n",
    "        print('''HELLO! user\n",
    "              how may i help you\n",
    "              select the menu\n",
    "              1.check balance\n",
    "              2.withdraw cash\n",
    "              3.change pin \n",
    "              4.Transfer Funds\n",
    "              5.deposit cash ''')\n",
    "        n=int(input('please selcet the option:'))\n",
    "\n",
    "        if n==1:\n",
    "            print('Your account balance is :',balance)\n",
    "        elif n==2:\n",
    "            withdraw=int(input('please enter the amoubt:'))\n",
    "            if withdraw>balance:\n",
    "                print('you have Insufficirnt balance')\n",
    "            else:\n",
    "                print('your withdrawal is successful your new balance is:',balance- withdraw)\n",
    "        elif n==3:\n",
    "            Pin=int(input('enter the new pin:'))\n",
    "            pin==Pin\n",
    "            print('your new pin is:',Pin)\n",
    "        elif n==4:\n",
    "            fund=int(input('enter the amount:'))\n",
    "            print('your transaction is done you new balance is ',balance-fund)\n",
    "        elif n==5:\n",
    "            deposit=int(input('enetr the amount:'))\n",
    "            print('your amount is deposited your new balance is ',balance+deposit)\n",
    "        else:\n",
    "            print('please select the valid option')\n",
    "    else:\n",
    "        print('incorrect pin')\n",
    "    "
   ]
  },
  {
   "cell_type": "code",
   "execution_count": 5,
   "id": "6e203f42-a57d-4292-98b4-e9efd8f3a75f",
   "metadata": {},
   "outputs": [
    {
     "name": "stdin",
     "output_type": "stream",
     "text": [
      "please enetr your pin: 1234\n"
     ]
    },
    {
     "name": "stdout",
     "output_type": "stream",
     "text": [
      "HELLO! user\n",
      "              how may i help you\n",
      "              select the menu\n",
      "              1.check balance\n",
      "              2.withdraw cash\n",
      "              3.change pin \n",
      "              4.Transfer Funds\n",
      "              5.deposit cash \n"
     ]
    },
    {
     "name": "stdin",
     "output_type": "stream",
     "text": [
      "please selcet the option: 5\n",
      "enetr the amount: 500000\n"
     ]
    },
    {
     "name": "stdout",
     "output_type": "stream",
     "text": [
      "your amount is deposited your new balance is  1500000\n"
     ]
    }
   ],
   "source": [
    "ATM_menu()"
   ]
  },
  {
   "cell_type": "code",
   "execution_count": 3,
   "id": "96b9c55c-418a-4f04-b548-59cd85cf6871",
   "metadata": {},
   "outputs": [],
   "source": [
    "def check_palindrome2():\n",
    "    n=str(input('enter your string:'))\n",
    "    if n[0:]==n[::-1]:\n",
    "        print('yes it is palindrome')\n",
    "    else:\n",
    "        print('no it is not a palindrome')"
   ]
  },
  {
   "cell_type": "code",
   "execution_count": 5,
   "id": "1d0e97c9-e823-4228-ad57-c2257eb3bcb9",
   "metadata": {},
   "outputs": [
    {
     "name": "stdin",
     "output_type": "stream",
     "text": [
      "enter your string: armaan\n"
     ]
    },
    {
     "name": "stdout",
     "output_type": "stream",
     "text": [
      "no it is not a palindrome\n"
     ]
    }
   ],
   "source": [
    "check_palindrome2()"
   ]
  },
  {
   "cell_type": "code",
   "execution_count": 6,
   "id": "dc20e63b-bca8-4cbe-8c13-eacaf80ae3fe",
   "metadata": {},
   "outputs": [],
   "source": [
    "def check_average_exc_min_max():\n",
    "    l1=[10,20,30,40,25,35,73]\n",
    "    average=sum(l1)-min(l1)-max(l1)\n",
    "    length=len(l1)-2\n",
    "    return average/length"
   ]
  },
  {
   "cell_type": "code",
   "execution_count": 7,
   "id": "3fdad5f7-3d28-4f4b-bfb5-d222d81ba017",
   "metadata": {},
   "outputs": [
    {
     "data": {
      "text/plain": [
       "30.0"
      ]
     },
     "execution_count": 7,
     "metadata": {},
     "output_type": "execute_result"
    }
   ],
   "source": [
    "check_average_exc_min_max()"
   ]
  },
  {
   "cell_type": "code",
   "execution_count": 9,
   "id": "0c1828e5-4ae6-4aca-b039-c5ee010483e5",
   "metadata": {},
   "outputs": [],
   "source": [
    "def convert_celsius_to_farhenite():\n",
    "    celsius=int(input('enter your celisus temperature:'))\n",
    "    farhenite=(celsius*9/5)+32\n",
    "    return farhenite"
   ]
  },
  {
   "cell_type": "code",
   "execution_count": 10,
   "id": "17bb9c0f-84e6-4e87-9d09-4c93d9c09651",
   "metadata": {},
   "outputs": [
    {
     "name": "stdin",
     "output_type": "stream",
     "text": [
      "enter your celisus temperature: 34\n"
     ]
    },
    {
     "data": {
      "text/plain": [
       "93.2"
      ]
     },
     "execution_count": 10,
     "metadata": {},
     "output_type": "execute_result"
    }
   ],
   "source": [
    "convert_celsius_to_farhenite()"
   ]
  },
  {
   "cell_type": "code",
   "execution_count": 21,
   "id": "408d7bbb-0d0e-46a3-8b58-8941c5c28947",
   "metadata": {},
   "outputs": [],
   "source": [
    "def create_the_calculator():\n",
    "    num1=int(input('enter the first number:'))\n",
    "    sign=str(input('enter the sign for calculation:'))\n",
    "    num2=int(input('enter the second number:'))\n",
    "    if sign=='+':\n",
    "        print('num1+num2=',num1+num2)\n",
    "    elif sign=='-':\n",
    "        print( 'num1-num2=',num1-num2)\n",
    "    elif sign=='*':\n",
    "        print('num1*num2=',num1*num2)\n",
    "    elif sign=='/':\n",
    "        print('num1/num2=',num1/num2)\n",
    "    else:\n",
    "        print('please the corret sign')"
   ]
  },
  {
   "cell_type": "code",
   "execution_count": 23,
   "id": "5375c705-d489-4b22-8791-36d206e4a251",
   "metadata": {},
   "outputs": [
    {
     "name": "stdin",
     "output_type": "stream",
     "text": [
      "enter the first number: 12\n",
      "enter the sign for calculation: *\n",
      "enter the second number: 12\n"
     ]
    },
    {
     "name": "stdout",
     "output_type": "stream",
     "text": [
      "num1*num2= 144\n"
     ]
    }
   ],
   "source": [
    "create_the_calculator()"
   ]
  },
  {
   "cell_type": "code",
   "execution_count": 24,
   "id": "48b8f17c-fb84-483b-bc29-08b54a8c9ef9",
   "metadata": {},
   "outputs": [
    {
     "name": "stdout",
     "output_type": "stream",
     "text": [
      "The roots of the cubic equation are: (4.694317021092508+0j), (-1.347158510546254+0.28933423089810917j), and (-1.347158510546254-0.28933423089810917j)\n"
     ]
    }
   ],
   "source": [
    "import cmath\n",
    "\n",
    "def cardano_cubic_roots(a, b, c, d):\n",
    "    p = (3*a*c - b**2) / (3*a**2)\n",
    "    q = (2*b**3 - 9*a*b*c + 27*a**2*d) / (27*a**3)\n",
    "    discriminant = (q/2)**2 + (p/3)**3\n",
    "\n",
    "    if discriminant > 0:\n",
    "        u = cmath.exp(cmath.log(-q/2 + cmath.sqrt(discriminant)) / 3)\n",
    "        v = cmath.exp(cmath.log(-q/2 - cmath.sqrt(discriminant)) / 3)\n",
    "        y1 = u + v\n",
    "        y2 = -(u + v) / 2 + cmath.sqrt(3)*(u - v)/2j\n",
    "        y3 = -(u + v) / 2 - cmath.sqrt(3)*(u - v)/2j\n",
    "    elif discriminant == 0:\n",
    "        u = cmath.exp(cmath.log(-q/2) / 3)\n",
    "        y1 = 2*u\n",
    "        y2 = y3 = -u\n",
    "    else:\n",
    "        r = cmath.sqrt((q/2)**2 - discriminant)\n",
    "        theta = cmath.phase(-q/2 + r)\n",
    "        u = cmath.exp(cmath.log(abs(-q/2 + r)) / 3)\n",
    "        v = cmath.exp(cmath.log(abs(-q/2 - r)) / 3)\n",
    "        y1 = u + v\n",
    "        y2 = -(u + v) / 2 + cmath.sqrt(3)*(u - v)/2j\n",
    "        y3 = -(u + v) / 2 - cmath.sqrt(3)*(u - v)/2j\n",
    "\n",
    "    x1 = y1 - b / (3*a)\n",
    "    x2 = y2 - b / (3*a)\n",
    "    x3 = y3 - b / (3*a)\n",
    "    \n",
    "    return x1, x2, x3\n",
    "\n",
    "# Example usage\n",
    "a, b, c, d = 2, -4, -22, 24\n",
    "roots = cardano_cubic_roots(a, b, c, d)\n",
    "print(f\"The roots of the cubic equation are: {roots[0]}, {roots[1]}, and {roots[2]}\")\n"
   ]
  },
  {
   "cell_type": "code",
   "execution_count": 6,
   "id": "e5c474f9-13ef-4a5f-bf30-aaa22ff225a1",
   "metadata": {},
   "outputs": [],
   "source": [
    "def calculate_tax():\n",
    "    try:\n",
    "        salary=int(input('enter your salary:'))\n",
    "        if salary<100000:\n",
    "            tax=0.7*salary\n",
    "            print('your tottal tax payable is',tax)\n",
    "        elif salary<250000:\n",
    "            tax=0.9*salary\n",
    "            print('your tottal tax payable is ',tax)\n",
    "        elif salary<500000:\n",
    "            tax=0.10*salary\n",
    "            print('your tottal tax payable is ',tax)\n",
    "        elif salary<750000:\n",
    "            tax=0.13*salary\n",
    "            print('your tottal tax payable is',tax)\n",
    "        else:\n",
    "            tax=0.15*salary\n",
    "            print('your tottal tax payable is',tax)\n",
    "    except Exception as e:\n",
    "        print(e)\n",
    "    "
   ]
  },
  {
   "cell_type": "code",
   "execution_count": 7,
   "id": "1bccf1b3-ee99-4209-b565-b570dd8b92d0",
   "metadata": {},
   "outputs": [
    {
     "name": "stdin",
     "output_type": "stream",
     "text": [
      "enter your salary: 270000\n"
     ]
    },
    {
     "name": "stdout",
     "output_type": "stream",
     "text": [
      "your tottal tax payable is  27000.0\n"
     ]
    }
   ],
   "source": [
    "calculate_tax()"
   ]
  },
  {
   "cell_type": "code",
   "execution_count": 10,
   "id": "50fee2c8-ceca-4db5-b080-02ab054dda33",
   "metadata": {},
   "outputs": [
    {
     "name": "stdin",
     "output_type": "stream",
     "text": [
      "enter rock,paper and scissor : rock\n"
     ]
    },
    {
     "name": "stdout",
     "output_type": "stream",
     "text": [
      "you chose rock\n",
      "computer chose scissor\n",
      "You Win!\n"
     ]
    }
   ],
   "source": [
    "import random\n",
    "def play_game():\n",
    "    choices=['rock','paper','scissor']\n",
    "    \n",
    "    try:\n",
    "        user=input('enter rock,paper and scissor :').lower()\n",
    "        if user not in choices:\n",
    "            raise ValueError('Invalid choice! Please choose rock,paper,or scissors.')\n",
    "    except ValueError as e:\n",
    "        print(e)\n",
    "        \n",
    "    computer=random.choice(choices)\n",
    "        \n",
    "    print('you chose',user)\n",
    "    print('computer chose',computer)\n",
    "    \n",
    "    if user==computer:\n",
    "        print('Its a tie!')\n",
    "    elif (user=='rock' and computer =='scissor') or (user =='paper' and computer =='rock') or (user=='scissor' and computer=='paper'):\n",
    "        print('You Win!')\n",
    "    else:\n",
    "        print('Computer Wins!')\n",
    "        \n",
    "if __name__=='__main__':\n",
    "    play_game()"
   ]
  },
  {
   "cell_type": "code",
   "execution_count": 1,
   "id": "bd97f40b-1b92-4733-a25c-189f65948d31",
   "metadata": {},
   "outputs": [
    {
     "name": "stdout",
     "output_type": "stream",
     "text": [
      "Welcome to the Password Generator!\n"
     ]
    },
    {
     "name": "stdin",
     "output_type": "stream",
     "text": [
      "Enter the desired length of the password:  23\n"
     ]
    },
    {
     "name": "stdout",
     "output_type": "stream",
     "text": [
      "Generated password: vo7mvcL~4#+,)KA%.Q|l#7;\n"
     ]
    }
   ],
   "source": [
    "import random\n",
    "import string\n",
    "\n",
    "def generate_password(length):\n",
    "    characters = string.ascii_letters + string.digits + string.punctuation\n",
    "    password = ''.join(random.choice(characters) for _ in range(length))\n",
    "    return password\n",
    "\n",
    "def main():\n",
    "    print(\"Welcome to the Password Generator!\")\n",
    "    length = int(input(\"Enter the desired length of the password: \"))\n",
    "    \n",
    "    password = generate_password(length)\n",
    "    print(f\"Generated password: {password}\")\n",
    "\n",
    "if __name__ == \"__main__\":\n",
    "    main()\n"
   ]
  },
  {
   "cell_type": "code",
   "execution_count": 5,
   "id": "c1352369-ac33-49bb-83aa-3aa21a9ef95d",
   "metadata": {},
   "outputs": [
    {
     "name": "stdout",
     "output_type": "stream",
     "text": [
      "welcome to the text based adventure game \n",
      "you are at the fork of the road,where you like to go?\n"
     ]
    },
    {
     "name": "stdin",
     "output_type": "stream",
     "text": [
      "enetr 1 to go right and enter 2 to go left 1\n"
     ]
    },
    {
     "name": "stdout",
     "output_type": "stream",
     "text": [
      "you have choose right path, there is a friendly squirel it leads you to a hidden treasure\n",
      "Congratulatiuons!you have reached the end of the adnventure \n",
      "Thank you! for playing the game\n"
     ]
    }
   ],
   "source": [
    "def main():\n",
    "    print('welcome to the text based adventure game ')\n",
    "    print('you are at the fork of the road,where you like to go?')\n",
    "    \n",
    "    try:\n",
    "        choice=int(input('enetr 1 to go right and enter 2 to go left'))\n",
    "        if choice ==1:\n",
    "            print('you have choose right path, there is a friendly squirel it leads you to a hidden treasure')\n",
    "        elif choice ==2:\n",
    "            print('you choose the left path ,there is a dangerous lion you will be killed')\n",
    "        else :\n",
    "            raise ValueError ('Invalid choice!, please choose the given path')\n",
    "        \n",
    "    except ValueError as e:\n",
    "        print(e)\n",
    "        \n",
    "    else:\n",
    "        print('Congratulatiuons!you have reached the end of the adnventure ')\n",
    "    finally:\n",
    "        print('Thank you! for playing the game')\n",
    "        \n",
    "if __name__=='__main__':\n",
    "    main()"
   ]
  },
  {
   "cell_type": "code",
   "execution_count": 10,
   "id": "293ec4b0-ffae-4dc5-aab5-dd7f3c1300e8",
   "metadata": {},
   "outputs": [
    {
     "name": "stdout",
     "output_type": "stream",
     "text": [
      "linear equation solver ax+b=c\n"
     ]
    },
    {
     "name": "stdin",
     "output_type": "stream",
     "text": [
      "ente the value for a: 12\n",
      "ente the value for b: 21\n",
      "ente the value for c: 12\n"
     ]
    },
    {
     "name": "stdout",
     "output_type": "stream",
     "text": [
      "solution:\n",
      "y=-0.75\n"
     ]
    }
   ],
   "source": [
    "def find_solution(a,b,c):\n",
    "    if a==0:\n",
    "        if b==c:\n",
    "            print('Infinite solution(identity equatiion)')\n",
    "        else:\n",
    "            print('No soution could be found')\n",
    "    else:\n",
    "        x=(c-b)/a\n",
    "        return x\n",
    "    \n",
    "def main():\n",
    "    print('linear equation solver ax+b=c')\n",
    "    a=float(input('ente the value for a:'))\n",
    "    b=float(input('ente the value for b:'))\n",
    "    c=float(input('ente the value for c:'))\n",
    "    \n",
    "    x=find_solution(a,b,c)\n",
    "    print('solution:')\n",
    "    if isinstance(x,str):\n",
    "        print(x)\n",
    "    else:\n",
    "        print(f\"y={x}\")\n",
    "        \n",
    "if __name__=='__main__':\n",
    "    main()\n"
   ]
  },
  {
   "cell_type": "code",
   "execution_count": 12,
   "id": "18047d26-6245-440f-97bb-aff44ccc8b32",
   "metadata": {},
   "outputs": [
    {
     "name": "stdout",
     "output_type": "stream",
     "text": [
      "What is 2 + 2?\n",
      "A. 3\n",
      "B. 4\n",
      "C. 5\n",
      "D. 6\n"
     ]
    },
    {
     "name": "stdin",
     "output_type": "stream",
     "text": [
      "Your answer (A/B/C/D):  b\n"
     ]
    },
    {
     "name": "stdout",
     "output_type": "stream",
     "text": [
      "Correct!\n",
      "\n",
      "What color is the sky on a clear day?\n",
      "A. Blue\n",
      "B. Green\n",
      "C. Red\n",
      "D. Yellow\n"
     ]
    },
    {
     "name": "stdin",
     "output_type": "stream",
     "text": [
      "Your answer (A/B/C/D):  a\n"
     ]
    },
    {
     "name": "stdout",
     "output_type": "stream",
     "text": [
      "Correct!\n",
      "\n",
      "Which animal is known as the 'King of the Jungle'?\n",
      "A. Elephant\n",
      "B. Tiger\n",
      "C. Lion\n",
      "D. Giraffe\n"
     ]
    },
    {
     "name": "stdin",
     "output_type": "stream",
     "text": [
      "Your answer (A/B/C/D):  c\n"
     ]
    },
    {
     "name": "stdout",
     "output_type": "stream",
     "text": [
      "Correct!\n",
      "\n",
      "Your final score is: 3 out of 3\n"
     ]
    }
   ],
   "source": [
    "questions = [\n",
    "    (\"What is 2 + 2?\", [\"A. 3\", \"B. 4\", \"C. 5\", \"D. 6\"], \"B\"),\n",
    "    (\"What color is the sky on a clear day?\", [\"A. Blue\", \"B. Green\", \"C. Red\", \"D. Yellow\"], \"A\"),\n",
    "    (\"Which animal is known as the 'King of the Jungle'?\", [\"A. Elephant\", \"B. Tiger\", \"C. Lion\", \"D. Giraffe\"], \"C\")\n",
    "]\n",
    "\n",
    "def quiz_game(questions):\n",
    "    score = 0\n",
    "\n",
    "    for question, choices, correct_answer in questions:\n",
    "        print(question)\n",
    "        for choice in choices:\n",
    "            print(choice)\n",
    "        answer = input(\"Your answer (A/B/C/D): \").upper()\n",
    "        if answer == correct_answer:\n",
    "            print(\"Correct!\\n\")\n",
    "            score += 1\n",
    "        else:\n",
    "            print(f\"Wrong! The correct answer was {correct_answer}.\\n\")\n",
    "\n",
    "    print(f\"Your final score is: {score} out of {len(questions)}\")\n",
    "\n",
    "if __name__ == \"__main__\":\n",
    "    quiz_game(questions)\n"
   ]
  },
  {
   "cell_type": "code",
   "execution_count": 13,
   "id": "a65aabfb-9a22-4ff7-951d-ba4258e4e37c",
   "metadata": {},
   "outputs": [
    {
     "name": "stdin",
     "output_type": "stream",
     "text": [
      "Enter a year:  2001\n"
     ]
    },
    {
     "name": "stdout",
     "output_type": "stream",
     "text": [
      "2001 is not a prime number.\n"
     ]
    }
   ],
   "source": [
    "def is_prime(year):\n",
    "    if year <= 1:\n",
    "        return False\n",
    "    for i in range(2, int(year**0.5) + 1):\n",
    "        if year % i == 0:\n",
    "            return False\n",
    "    return True\n",
    "\n",
    "def main():\n",
    "    year = int(input(\"Enter a year: \"))\n",
    "    if is_prime(year):\n",
    "        print(f\"{year} is a prime number.\")\n",
    "    else:\n",
    "        print(f\"{year} is not a prime number.\")\n",
    "\n",
    "if __name__ == \"__main__\":\n",
    "    main()\n"
   ]
  },
  {
   "cell_type": "code",
   "execution_count": 1,
   "id": "2ce44cc9-d14e-4c45-9bc2-7ae8a62e8be6",
   "metadata": {},
   "outputs": [
    {
     "name": "stdin",
     "output_type": "stream",
     "text": [
      "Enter the first number:  1\n",
      "Enter the second number:  23\n",
      "Enter the third number:  45\n"
     ]
    },
    {
     "name": "stdout",
     "output_type": "stream",
     "text": [
      "The number in ascending order are:1.0,23.0,45.0\n"
     ]
    }
   ],
   "source": [
    "def sort_ascending(a,b,c):\n",
    "    \n",
    "    if a>b:\n",
    "        a,b=b,a\n",
    "    if a>c:\n",
    "        a,c=c,a\n",
    "    if b>c:\n",
    "        b,c=c,b\n",
    "        \n",
    "    return a,b,c\n",
    "def main():\n",
    " \n",
    "    a = float(input(\"Enter the first number: \"))\n",
    "    b = float(input(\"Enter the second number: \"))\n",
    "    c = float(input(\"Enter the third number: \"))\n",
    "    smallest,middle,largest=sort_ascending(a,b,c)\n",
    "    \n",
    "    print(f\"The number in ascending order are:{smallest},{middle},{largest}\")\n",
    "    \n",
    "if __name__==\"__main__\":\n",
    "    main()"
   ]
  },
  {
   "cell_type": "code",
   "execution_count": 3,
   "id": "2b07da97-f52f-4947-8c91-b6d2ea652fef",
   "metadata": {},
   "outputs": [
    {
     "name": "stdout",
     "output_type": "stream",
     "text": [
      "Enter the coefficients of the quartic equation ax^4 + bx^3 + cx^2 + dx + e = 0\n"
     ]
    },
    {
     "name": "stdin",
     "output_type": "stream",
     "text": [
      "Enter coefficient for x^4:  1\n",
      "Enter coefficient for x^3:  2\n",
      "Enter coefficient for x^2:  3\n",
      "Enter coefficient for x^1:  4\n",
      "Enter coefficient for x^0:  5\n"
     ]
    },
    {
     "name": "stdout",
     "output_type": "stream",
     "text": [
      "The roots of the quartic equation are:\n",
      "(-1.2878154795576484+0.8578967583284913j)\n",
      "(-1.2878154795576484-0.8578967583284913j)\n",
      "(0.2878154795576478+1.416093080171908j)\n",
      "(0.2878154795576478-1.416093080171908j)\n"
     ]
    }
   ],
   "source": [
    "import numpy as np\n",
    "\n",
    "def main():\n",
    "    print(\"Enter the coefficients of the quartic equation ax^4 + bx^3 + cx^2 + dx + e = 0\")\n",
    "    \n",
    "    coefficients = [float(input(f\"Enter coefficient for x^{i}: \")) for i in range(4, -1, -1)]\n",
    "    \n",
    "    roots = np.roots(coefficients)\n",
    "    \n",
    "    print(\"The roots of the quartic equation are:\")\n",
    "    for root in roots:\n",
    "        print(root)\n",
    "\n",
    "if __name__ == \"__main__\":\n",
    "    main()\n"
   ]
  },
  {
   "cell_type": "code",
   "execution_count": 4,
   "id": "34ba56cf-ca9c-4ec4-ba49-93366e95525a",
   "metadata": {},
   "outputs": [
    {
     "name": "stdin",
     "output_type": "stream",
     "text": [
      "Enter your weight in kilograms:  57\n",
      "Enter your height in meters:  5.6\n"
     ]
    },
    {
     "name": "stdout",
     "output_type": "stream",
     "text": [
      "Your BMI is: 1.82\n",
      "Underweight. It's recommended to eat a balanced diet and consult with a healthcare provider.\n",
      "Thank you for using the BMI calculator.\n"
     ]
    }
   ],
   "source": [
    "def calculate_bmi(weight, height):\n",
    "    bmi = weight / (height ** 2)\n",
    "    return bmi\n",
    "\n",
    "def get_health_recommendation(bmi):\n",
    "    if bmi < 18.5:\n",
    "        return \"Underweight. It's recommended to eat a balanced diet and consult with a healthcare provider.\"\n",
    "    elif 18.5 <= bmi < 24.9:\n",
    "        return \"Normal weight. Maintain a healthy lifestyle.\"\n",
    "    elif 25 <= bmi < 29.9:\n",
    "        return \"Overweight. Consider a balanced diet and regular exercise.\"\n",
    "    else:\n",
    "        return \"Obese. It's recommended to consult with a healthcare provider for a suitable health plan.\"\n",
    "\n",
    "def main():\n",
    "    try:\n",
    "        weight = float(input(\"Enter your weight in kilograms: \"))\n",
    "        height = float(input(\"Enter your height in meters: \"))\n",
    "    except ValueError:\n",
    "        print(\"Invalid input. Please enter numerical values for weight and height.\")\n",
    "    else:\n",
    "        bmi = calculate_bmi(weight, height)\n",
    "        print(f\"Your BMI is: {bmi:.2f}\")\n",
    "        print(get_health_recommendation(bmi))\n",
    "    finally:\n",
    "        print(\"Thank you for using the BMI calculator.\")\n",
    "\n",
    "if __name__ == \"__main__\":\n",
    "    main()\n"
   ]
  },
  {
   "cell_type": "code",
   "execution_count": 2,
   "id": "88e4d131-c857-44d4-b5b1-c94994c7a04c",
   "metadata": {},
   "outputs": [],
   "source": [
    "def check_passswword():\n",
    "    password=str(input('enter your password:'))\n",
    "    uppercase='ABCDEFGHIJKLMNOPQRSTUVWXYZ'\n",
    "    specialcase='!@#$%^&*()_'\n",
    "    try:\n",
    "        if len(password)>=8:\n",
    "            if any(char in uppercase for char  in password):\n",
    "                if any(char in specialcase for char in password):\n",
    "                    print('your password is validated')\n",
    "                else:\n",
    "                    print('password doest not contain special case')\n",
    "            else:\n",
    "                print('your password does not contain upper case')\n",
    "        else:\n",
    "            print('make sure your password should be greater than 8 and alpha numeric')\n",
    "    except ValueError as v:\n",
    "        print(v)"
   ]
  },
  {
   "cell_type": "code",
   "execution_count": 3,
   "id": "88f86ae7-76bc-4278-abf2-3cfaed0a0f0d",
   "metadata": {},
   "outputs": [
    {
     "name": "stdin",
     "output_type": "stream",
     "text": [
      "enter your password: Aman@123\n"
     ]
    },
    {
     "name": "stdout",
     "output_type": "stream",
     "text": [
      "your password is validated\n"
     ]
    }
   ],
   "source": [
    "check_passswword()"
   ]
  },
  {
   "cell_type": "code",
   "execution_count": 11,
   "id": "11f36521-c96d-4a54-bb3a-1d91ba7c7c2f",
   "metadata": {},
   "outputs": [
    {
     "name": "stdout",
     "output_type": "stream",
     "text": [
      "Matrix Addition and Subtraction Program\n"
     ]
    },
    {
     "name": "stdin",
     "output_type": "stream",
     "text": [
      "Enter the number of rows:  2\n",
      "Enter the number of columns:  2\n",
      "Enter element [1][1]:  1\n",
      "Enter element [1][2]:  2\n",
      "Enter element [2][1]:  1\n",
      "Enter element [2][2]:  2\n",
      "Enter the number of rows:  2\n",
      "Enter the number of columns:  2\n",
      "Enter element [1][1]:  1\n",
      "Enter element [1][2]:  2\n",
      "Enter element [2][1]:  1\n",
      "Enter element [2][2]:  2\n"
     ]
    },
    {
     "name": "stdout",
     "output_type": "stream",
     "text": [
      "\n",
      "Matrix 1:\n",
      "[1.0, 2.0]\n",
      "[1.0, 2.0]\n",
      "\n",
      "Matrix 2:\n",
      "[1.0, 2.0]\n",
      "[1.0, 2.0]\n",
      "\n",
      "Matrix Addition:\n",
      "[2.0, 4.0]\n",
      "[2.0, 4.0]\n",
      "\n",
      "Matrix Subtraction:\n",
      "[0.0, 0.0]\n",
      "[0.0, 0.0]\n"
     ]
    }
   ],
   "source": [
    "def input_matrix():\n",
    "    try:\n",
    "        rows = int(input(\"Enter the number of rows: \"))\n",
    "        cols = int(input(\"Enter the number of columns: \"))\n",
    "        matrix = [[float(input(f\"Enter element [{i+1}][{j+1}]: \")) for j in range(cols)] for i in range(rows)]\n",
    "        return matrix\n",
    "    except ValueError:\n",
    "        print(\"Please enter valid numeric values.\")\n",
    "        return input_matrix()\n",
    "\n",
    "def matrix_operation(matrix1, matrix2, operation):\n",
    "    try:\n",
    "        if operation == 'add':\n",
    "            return [[matrix1[i][j] + matrix2[i][j] for j in range(len(matrix1[0]))] for i in range(len(matrix1))]\n",
    "        elif operation == 'subtract':\n",
    "            return [[matrix1[i][j] - matrix2[i][j] for j in range(len(matrix1[0]))] for i in range(len(matrix1))]\n",
    "        else:\n",
    "            raise ValueError(\"Invalid operation. Please choose 'add' or 'subtract'.\")\n",
    "    except IndexError:\n",
    "        print(\"Matrices must have the same dimensions.\")\n",
    "        return None\n",
    "\n",
    "def print_matrix(matrix):\n",
    "    for row in matrix:\n",
    "        print(row)\n",
    "\n",
    "print(\"Matrix Addition and Subtraction Program\")\n",
    "matrix1 = input_matrix()\n",
    "matrix2 = input_matrix()\n",
    "\n",
    "print(\"\\nMatrix 1:\")\n",
    "print_matrix(matrix1)\n",
    "print(\"\\nMatrix 2:\")\n",
    "print_matrix(matrix2)\n",
    "\n",
    "add_result = matrix_operation(matrix1, matrix2, 'add')\n",
    "sub_result = matrix_operation(matrix1, matrix2, 'subtract')\n",
    "\n",
    "if add_result:\n",
    "    print(\"\\nMatrix Addition:\")\n",
    "    print_matrix(add_result)\n",
    "\n",
    "if sub_result:\n",
    "    print(\"\\nMatrix Subtraction:\")\n",
    "    print_matrix(sub_result)\n"
   ]
  },
  {
   "cell_type": "code",
   "execution_count": null,
   "id": "b47931cb-6861-4ddd-853e-d20bffe83434",
   "metadata": {},
   "outputs": [
    {
     "name": "stdout",
     "output_type": "stream",
     "text": [
      "Greatest Common Divisor (GCD) Calculator\n"
     ]
    },
    {
     "name": "stdin",
     "output_type": "stream",
     "text": [
      "Enter the first number:  12\n",
      "Enter the second number:  23\n"
     ]
    },
    {
     "name": "stdout",
     "output_type": "stream",
     "text": [
      "The GCD of 12 and 23 is: 1\n"
     ]
    }
   ],
   "source": [
    "def gcd(a, b):\n",
    "    while b:\n",
    "        a, b = b, a % b\n",
    "    return a\n",
    "\n",
    "def main():\n",
    "    try:\n",
    "        num1 = int(input(\"Enter the first number: \"))\n",
    "        num2 = int(input(\"Enter the second number: \"))\n",
    "        if num1 < 0 or num2 < 0:\n",
    "            raise ValueError(\"Please enter positive integers.\")\n",
    "        else:\n",
    "            result = gcd(num1, num2)\n",
    "            print(f\"The GCD of {num1} and {num2} is: {result}\")\n",
    "    except ValueError as e:\n",
    "        print(e)\n",
    "\n",
    "if __name__ == \"__main__\":\n",
    "    print(\"Greatest Common Divisor (GCD) Calculator\")\n",
    "    main()\n"
   ]
  },
  {
   "cell_type": "code",
   "execution_count": 12,
   "id": "aa9131f4-a7f6-406f-b533-2a040332e2cf",
   "metadata": {},
   "outputs": [
    {
     "name": "stdout",
     "output_type": "stream",
     "text": [
      "Matrix Multiplication Program\n"
     ]
    },
    {
     "name": "stdin",
     "output_type": "stream",
     "text": [
      "Enter the number of rows for matrix 1:  2\n",
      "Enter the number of columns for matrix 1:  2\n",
      "Enter element [1][1]:  1\n",
      "Enter element [1][2]:  2\n",
      "Enter element [2][1]:  1\n",
      "Enter element [2][2]:  2\n",
      "Enter the number of rows for matrix 2:  2\n",
      "Enter the number of columns for matrix 2:  2\n",
      "Enter element [1][1]:  1\n",
      "Enter element [1][2]:  2\n",
      "Enter element [2][1]:  1\n",
      "Enter element [2][2]:  2\n"
     ]
    },
    {
     "name": "stdout",
     "output_type": "stream",
     "text": [
      "\n",
      "Matrix 1:\n",
      "[1.0, 2.0]\n",
      "[1.0, 2.0]\n",
      "\n",
      "Matrix 2:\n",
      "[1.0, 2.0]\n",
      "[1.0, 2.0]\n",
      "\n",
      "Matrix Multiplication:\n",
      "[3.0, 6.0]\n",
      "[3.0, 6.0]\n"
     ]
    }
   ],
   "source": [
    "def matrix_multiplication(matrix1, matrix2):\n",
    "    return [[sum(matrix1[i][k] * matrix2[k][j] for k in range(len(matrix2))) for j in range(len(matrix2[0]))] for i in range(len(matrix1))]\n",
    "\n",
    "def input_matrix(rows, cols):\n",
    "    return [[float(input(f\"Enter element [{i+1}][{j+1}]: \")) for j in range(cols)] for i in range(rows)]\n",
    "\n",
    "def print_matrix(matrix):\n",
    "    for row in matrix:\n",
    "        print(row)\n",
    "\n",
    "def main():\n",
    "    try:\n",
    "        matrix1 = input_matrix(int(input(\"Enter the number of rows for matrix 1: \")), int(input(\"Enter the number of columns for matrix 1: \")))\n",
    "        matrix2 = input_matrix(int(input(\"Enter the number of rows for matrix 2: \")), int(input(\"Enter the number of columns for matrix 2: \")))\n",
    "\n",
    "        print(\"\\nMatrix 1:\")\n",
    "        print_matrix(matrix1)\n",
    "        print(\"\\nMatrix 2:\")\n",
    "        print_matrix(matrix2)\n",
    "\n",
    "        result = matrix_multiplication(matrix1, matrix2)\n",
    "        print(\"\\nMatrix Multiplication:\")\n",
    "        print_matrix(result)\n",
    "    except ValueError:\n",
    "        print(\"Please enter valid numeric values.\")\n",
    "\n",
    "if __name__ == \"__main__\":\n",
    "    print(\"Matrix Multiplication Program\")\n",
    "    main()\n"
   ]
  },
  {
   "cell_type": "code",
   "execution_count": 1,
   "id": "8b9f8e67-3912-43f9-980f-ba20b1f00431",
   "metadata": {},
   "outputs": [
    {
     "name": "stdout",
     "output_type": "stream",
     "text": [
      "     \n",
      "     \n",
      "     \n"
     ]
    },
    {
     "name": "stdin",
     "output_type": "stream",
     "text": [
      "Enter your move (row and column):  2 1\n"
     ]
    },
    {
     "name": "stdout",
     "output_type": "stream",
     "text": [
      "     \n",
      "    O\n",
      "  X  \n"
     ]
    },
    {
     "name": "stdin",
     "output_type": "stream",
     "text": [
      "Enter your move (row and column):  1 2\n"
     ]
    },
    {
     "name": "stdout",
     "output_type": "stream",
     "text": [
      "Invalid move. Try again.\n"
     ]
    },
    {
     "name": "stdin",
     "output_type": "stream",
     "text": [
      "Enter your move (row and column):  0 0\\\n"
     ]
    },
    {
     "name": "stdout",
     "output_type": "stream",
     "text": [
      "Invalid move. Try again.\n"
     ]
    },
    {
     "name": "stdin",
     "output_type": "stream",
     "text": [
      "Enter your move (row and column):  0 0\n"
     ]
    },
    {
     "name": "stdout",
     "output_type": "stream",
     "text": [
      "X    \n",
      "    O\n",
      "O X  \n"
     ]
    },
    {
     "name": "stdin",
     "output_type": "stream",
     "text": [
      "Enter your move (row and column):  2 2\n"
     ]
    },
    {
     "name": "stdout",
     "output_type": "stream",
     "text": [
      "X    \n",
      "O   O\n",
      "O X X\n"
     ]
    },
    {
     "name": "stdin",
     "output_type": "stream",
     "text": [
      "Enter your move (row and column):  1 1\n"
     ]
    },
    {
     "name": "stdout",
     "output_type": "stream",
     "text": [
      "X    \n",
      "O X O\n",
      "O X X\n",
      "You win!\n"
     ]
    }
   ],
   "source": [
    "import random\n",
    "\n",
    "def print_board(board):\n",
    "    for row in board:\n",
    "        print(\" \".join(row))\n",
    "\n",
    "def check_win(board, mark):\n",
    "    win_conditions = [\n",
    "        [(0, 0), (0, 1), (0, 2)],\n",
    "        [(1, 0), (1, 1), (1, 2)],\n",
    "        [(2, 0), (2, 1), (2, 2)],\n",
    "        [(0, 0), (1, 0), (2, 0)],\n",
    "        [(0, 1), (1, 1), (2, 1)],\n",
    "        [(0, 2), (1, 2), (2, 2)],\n",
    "        [(0, 0), (1, 1), (2, 2)],\n",
    "        [(0, 2), (1, 1), (2, 0)]\n",
    "    ]\n",
    "    for condition in win_conditions:\n",
    "        if all(board[r][c] == mark for r, c in condition):\n",
    "            return True\n",
    "    return False\n",
    "\n",
    "def get_computer_move(board):\n",
    "    empty_cells = [(r, c) for r in range(3) for c in range(3) if board[r][c] == ' ']\n",
    "    return random.choice(empty_cells)\n",
    "\n",
    "def main():\n",
    "    board = [[' ' for _ in range(3)] for _ in range(3)]\n",
    "    print_board(board)\n",
    "    \n",
    "    while True:\n",
    "        try:\n",
    "            row, col = map(int, input(\"Enter your move (row and column): \").split())\n",
    "            if board[row][col] != ' ':\n",
    "                raise ValueError(\"Cell already occupied\")\n",
    "        except (ValueError, IndexError):\n",
    "            print(\"Invalid move. Try again.\")\n",
    "            continue\n",
    "        \n",
    "        board[row][col] = 'X'\n",
    "        if check_win(board, 'X'):\n",
    "            print_board(board)\n",
    "            print(\"You win!\")\n",
    "            break\n",
    "        \n",
    "        if all(board[r][c] != ' ' for r in range(3) for c in range(3)):\n",
    "            print_board(board)\n",
    "            print(\"It's a draw!\")\n",
    "            break\n",
    "        \n",
    "        computer_move = get_computer_move(board)\n",
    "        board[computer_move[0]][computer_move[1]] = 'O'\n",
    "        if check_win(board, 'O'):\n",
    "            print_board(board)\n",
    "            print(\"Computer wins!\")\n",
    "            break\n",
    "        \n",
    "        print_board(board)\n",
    "\n",
    "if __name__ == \"__main__\":\n",
    "    main()"
   ]
  },
  {
   "cell_type": "code",
   "execution_count": 2,
   "id": "fe5dc9c9-848f-4a04-9d5e-39ba9a58fbfb",
   "metadata": {},
   "outputs": [
    {
     "name": "stdin",
     "output_type": "stream",
     "text": [
      "Enter the number of terms:  6\n"
     ]
    },
    {
     "name": "stdout",
     "output_type": "stream",
     "text": [
      "Fibonacci sequence up to 6 terms:\n",
      "[0, 1, 1, 2, 3, 5]\n"
     ]
    }
   ],
   "source": [
    "def fibonacci(n):\n",
    "    if n <= 0:\n",
    "        return []\n",
    "    elif n == 1:\n",
    "        return [0]\n",
    "    elif n == 2:\n",
    "        return [0, 1]\n",
    "\n",
    "    fib_sequence = [0, 1]\n",
    "    for i in range(2, n):\n",
    "        next_term = fib_sequence[-1] + fib_sequence[-2]\n",
    "        fib_sequence.append(next_term)\n",
    "    \n",
    "    return fib_sequence\n",
    "\n",
    "def main():\n",
    "    try:\n",
    "        n = int(input(\"Enter the number of terms: \"))\n",
    "        if n <= 0:\n",
    "            raise ValueError(\"The number of terms must be a positive integer.\")\n",
    "    except ValueError as e:\n",
    "        print(e)\n",
    "        return\n",
    "    \n",
    "    fib_sequence = fibonacci(n)\n",
    "    print(\"Fibonacci sequence up to\", n, \"terms:\")\n",
    "    print(fib_sequence)\n",
    "\n",
    "if __name__ == \"__main__\":\n",
    "    main()\n"
   ]
  },
  {
   "cell_type": "code",
   "execution_count": 3,
   "id": "4b6d1035-685b-4a9b-bdcb-79bbf9955d52",
   "metadata": {},
   "outputs": [
    {
     "name": "stdin",
     "output_type": "stream",
     "text": [
      "Enter the term number:  2\n"
     ]
    },
    {
     "name": "stdout",
     "output_type": "stream",
     "text": [
      "Fibonacci term 2: 1\n"
     ]
    }
   ],
   "source": [
    "def fibonacci(n, memo={0: 0, 1: 1}):\n",
    "    if n not in memo:\n",
    "        memo[n] = fibonacci(n - 1, memo) + fibonacci(n - 2, memo)\n",
    "    return memo[n]\n",
    "\n",
    "def main():\n",
    "    try:\n",
    "        n = int(input(\"Enter the term number: \"))\n",
    "        if n < 0:\n",
    "            raise ValueError(\"The term number must be a non-negative integer.\")\n",
    "    except ValueError as e:\n",
    "        print(e)\n",
    "        return\n",
    "    \n",
    "    print(f\"Fibonacci term {n}: {fibonacci(n)}\")\n",
    "\n",
    "if __name__ == \"__main__\":\n",
    "    main()\n"
   ]
  },
  {
   "cell_type": "code",
   "execution_count": 4,
   "id": "9298233e-1152-4748-a81f-50f1dc25edfd",
   "metadata": {},
   "outputs": [
    {
     "name": "stdin",
     "output_type": "stream",
     "text": [
      "Enter the year:  2024\n",
      "Enter the month (1-12):  6\n"
     ]
    },
    {
     "name": "stdout",
     "output_type": "stream",
     "text": [
      "     June 2024\n",
      "Su Mo Tu We Th Fr Sa\n",
      "                   1\n",
      " 2  3  4  5  6  7  8\n",
      " 9 10 11 12 13 14 15\n",
      "16 17 18 19 20 21 22\n",
      "23 24 25 26 27 28 29\n",
      "30\n",
      "\n"
     ]
    }
   ],
   "source": [
    "import calendar\n",
    "\n",
    "def generate_calendar(year, month):\n",
    "    cal = calendar.TextCalendar(calendar.SUNDAY)\n",
    "    return cal.formatmonth(year, month)\n",
    "\n",
    "def main():\n",
    "    try:\n",
    "        year = int(input(\"Enter the year: \"))\n",
    "        month = int(input(\"Enter the month (1-12): \"))\n",
    "        if month < 1 or month > 12:\n",
    "            raise ValueError(\"Month must be between 1 and 12.\")\n",
    "    except ValueError as e:\n",
    "        print(e)\n",
    "        return\n",
    "    \n",
    "    print(generate_calendar(year, month))\n",
    "\n",
    "if __name__ == \"__main__\":\n",
    "    main()\n"
   ]
  },
  {
   "cell_type": "code",
   "execution_count": 6,
   "id": "be8c0535-f8ad-4adb-ae64-452a46ea9871",
   "metadata": {},
   "outputs": [
    {
     "name": "stdout",
     "output_type": "stream",
     "text": [
      "Your hand: ['A', 7], score: 18\n",
      "Computer's first card: Q\n"
     ]
    },
    {
     "name": "stdin",
     "output_type": "stream",
     "text": [
      "Type 'hit' to get another card, 'stand' to hold:  hit\n"
     ]
    },
    {
     "name": "stdout",
     "output_type": "stream",
     "text": [
      "Your hand: ['A', 7, 2], score: 20\n",
      "Computer's first card: Q\n"
     ]
    },
    {
     "name": "stdin",
     "output_type": "stream",
     "text": [
      "Type 'hit' to get another card, 'stand' to hold:  stand\n"
     ]
    },
    {
     "name": "stdout",
     "output_type": "stream",
     "text": [
      "Your final hand: ['A', 7, 2], final score: 20\n",
      "Computer's final hand: ['Q', 8], final score: 18\n",
      "You win!\n"
     ]
    }
   ],
   "source": [
    "import random\n",
    "\n",
    "def deal_card():\n",
    "    return random.choice([2, 3, 4, 5, 6, 7, 8, 9, 10, 'J', 'Q', 'K', 'A'])\n",
    "\n",
    "def calculate_score(hand):\n",
    "    score = sum(10 if card in ['J', 'Q', 'K'] else 11 if card == 'A' else card for card in hand)\n",
    "    aces = hand.count('A')\n",
    "    while score > 21 and aces:\n",
    "        score -= 10\n",
    "        aces -= 1\n",
    "    return score\n",
    "\n",
    "def main():\n",
    "    player_hand = [deal_card(), deal_card()]\n",
    "    computer_hand = [deal_card(), deal_card()]\n",
    "\n",
    "    while True:\n",
    "        try:\n",
    "            print(f\"Your hand: {player_hand}, score: {calculate_score(player_hand)}\")\n",
    "            print(f\"Computer's first card: {computer_hand[0]}\")\n",
    "            \n",
    "            if calculate_score(player_hand) == 21:\n",
    "                print(\"Blackjack! You win!\")\n",
    "                return\n",
    "            if calculate_score(computer_hand) == 21:\n",
    "                print(\"Computer has a blackjack. You lose.\")\n",
    "                return\n",
    "            \n",
    "            action = input(\"Type 'hit' to get another card, 'stand' to hold: \").lower()\n",
    "            if action not in ['hit', 'stand']:\n",
    "                raise ValueError(\"Invalid input. Please type 'hit' or 'stand'.\")\n",
    "            if action == 'hit':\n",
    "                player_hand.append(deal_card())\n",
    "                if calculate_score(player_hand) > 21:\n",
    "                    print(f\"Your hand: {player_hand}, score: {calculate_score(player_hand)}\")\n",
    "                    print(\"You went over 21. You lose.\")\n",
    "                    return\n",
    "            elif action == 'stand':\n",
    "                break\n",
    "        except ValueError as e:\n",
    "            print(e)\n",
    "\n",
    "    while calculate_score(computer_hand) < 17:\n",
    "        computer_hand.append(deal_card())\n",
    "\n",
    "    print(f\"Your final hand: {player_hand}, final score: {calculate_score(player_hand)}\")\n",
    "    print(f\"Computer's final hand: {computer_hand}, final score: {calculate_score(computer_hand)}\")\n",
    "\n",
    "    if calculate_score(computer_hand) > 21 or calculate_score(player_hand) > calculate_score(computer_hand):\n",
    "        print(\"You win!\")\n",
    "    elif calculate_score(player_hand) < calculate_score(computer_hand):\n",
    "        print(\"You lose.\")\n",
    "    else:\n",
    "        print(\"It's a draw.\")\n",
    "\n",
    "if __name__ == \"__main__\":\n",
    "    main()\n"
   ]
  },
  {
   "cell_type": "code",
   "execution_count": 7,
   "id": "b1bfd2a6-ae8f-4471-b7ab-c47e2306a777",
   "metadata": {},
   "outputs": [
    {
     "name": "stdin",
     "output_type": "stream",
     "text": [
      "Enter a number:  10\n"
     ]
    },
    {
     "name": "stdout",
     "output_type": "stream",
     "text": [
      "Prime factors of 10: [2, 5]\n"
     ]
    }
   ],
   "source": [
    "def prime_factors(n):\n",
    "    i = 2\n",
    "    factors = []\n",
    "    while i * i <= n:\n",
    "        if n % i:\n",
    "            i += 1\n",
    "        else:\n",
    "            n //= i\n",
    "            factors.append(i)\n",
    "    if n > 1:\n",
    "        factors.append(n)\n",
    "    return factors\n",
    "\n",
    "def main():\n",
    "    try:\n",
    "        n = int(input(\"Enter a number: \"))\n",
    "        if n <= 0:\n",
    "            raise ValueError(\"Number must be greater than zero.\")\n",
    "        print(f\"Prime factors of {n}: {prime_factors(n)}\")\n",
    "    except ValueError as e:\n",
    "        print(f\"Invalid input: {e}\")\n",
    "\n",
    "if __name__ == \"__main__\":\n",
    "    main()\n"
   ]
  },
  {
   "cell_type": "code",
   "execution_count": null,
   "id": "8807f72c-ea30-4a12-a023-44a3228063cb",
   "metadata": {},
   "outputs": [],
   "source": []
  }
 ],
 "metadata": {
  "kernelspec": {
   "display_name": "Python 3 (ipykernel)",
   "language": "python",
   "name": "python3"
  },
  "language_info": {
   "codemirror_mode": {
    "name": "ipython",
    "version": 3
   },
   "file_extension": ".py",
   "mimetype": "text/x-python",
   "name": "python",
   "nbconvert_exporter": "python",
   "pygments_lexer": "ipython3",
   "version": "3.10.8"
  }
 },
 "nbformat": 4,
 "nbformat_minor": 5
}
